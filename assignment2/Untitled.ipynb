{
 "cells": [
  {
   "cell_type": "code",
   "execution_count": 32,
   "id": "74eff437-70be-4a18-a77f-f98842ef0995",
   "metadata": {},
   "outputs": [],
   "source": [
    "import numpy as np \n",
    "import scipy\n",
    "from scipy.stats import norm \n",
    "import matplotlib.pyplot as plt"
   ]
  },
  {
   "cell_type": "code",
   "execution_count": 28,
   "id": "05404cc7-4d8c-45a2-bd46-1831eb56ecef",
   "metadata": {},
   "outputs": [],
   "source": [
    "m = 20\n"
   ]
  },
  {
   "cell_type": "code",
   "execution_count": 29,
   "id": "14e0903d-2016-4620-9753-f5c64120fb50",
   "metadata": {},
   "outputs": [],
   "source": [
    "def gen_from_p(m):\n",
    "    return (0.3* rng.normal(2, 1, m) + 0.4*rng.normal(5,2, m) + 0.3*rng.normal(9,1, m))"
   ]
  },
  {
   "cell_type": "code",
   "execution_count": 31,
   "id": "449dc602-8807-49e6-b0e2-c8ef9ee61be0",
   "metadata": {},
   "outputs": [
    {
     "data": {
      "text/plain": [
       "array([4.85717168, 6.80771645, 5.36373368, 5.84707151, 5.94141202,\n",
       "       5.38951151, 5.53380682, 5.43482148, 5.26318923, 5.49106079,\n",
       "       4.41253724, 4.78256174, 4.47377452, 5.86398145, 4.71144557,\n",
       "       5.48315458, 4.74261853, 5.31023186, 5.69543415, 6.60898816])"
      ]
     },
     "execution_count": 31,
     "metadata": {},
     "output_type": "execute_result"
    }
   ],
   "source": [
    "rng = default_rng(0)\n",
    "Z = gen_from_p(m)\n",
    "Z"
   ]
  },
  {
   "cell_type": "code",
   "execution_count": 36,
   "id": "df74e9e8-5759-41b9-a062-b512d7805008",
   "metadata": {},
   "outputs": [
    {
     "data": {
      "text/plain": [
       "np.int64(8)"
      ]
     },
     "execution_count": 36,
     "metadata": {},
     "output_type": "execute_result"
    }
   ],
   "source": []
  },
  {
   "cell_type": "code",
   "execution_count": 37,
   "id": "4f89df50-0cdd-40be-9a60-55ec535372b5",
   "metadata": {},
   "outputs": [
    {
     "data": {
      "image/png": "[encoded data removed]",
      "text/plain": [
       "<Figure size 640x480 with 1 Axes>"
      ]
     },
     "metadata": {},
     "output_type": "display_data"
    }
   ],
   "source": [
    "plt.hist(Z,density= True)\n",
    "plt.show()"
   ]
  },
  {
   "cell_type": "code",
   "execution_count": null,
   "id": "a337de9a-24bf-47ee-bda4-074a1c953682",
   "metadata": {},
   "outputs": [],
   "source": []
  }
 ],
 "metadata": {
  "kernelspec": {
   "display_name": "Python 3 (ipykernel)",
   "language": "python",
   "name": "python3"
  },
  "language_info": {
   "codemirror_mode": {
    "name": "ipython",
    "version": 3
   },
   "file_extension": ".py",
   "mimetype": "text/x-python",
   "name": "python",
   "nbconvert_exporter": "python",
   "pygments_lexer": "ipython3",
   "version": "3.12.5"
  }
 },
 "nbformat": 4,
 "nbformat_minor": 5
}
